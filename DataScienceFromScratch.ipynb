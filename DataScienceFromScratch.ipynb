{
 "cells": [
  {
   "cell_type": "markdown",
   "metadata": {},
   "source": [
    "# AIMS/Senegal Students Cooperative, 2019-2021"
   ]
  },
  {
   "cell_type": "markdown",
   "metadata": {},
   "source": [
    "# Data Science From Scratch (Projects)"
   ]
  },
  {
   "cell_type": "markdown",
   "metadata": {},
   "source": [
    "## Open Projet and we need all propositions in term of theory and programming"
   ]
  },
  {
   "cell_type": "markdown",
   "metadata": {},
   "source": [
    "# Main Goal:\n",
    "1) To show to people the simple way to start Machine Learning;<br> \n",
    "2) Implimentations of our owner techniques and Machines Learning Algorithms; <br>\n",
    "3) Provide The Simple Useful Steps for realizing machine learning Project; <br>\n",
    "4) Propose some Mathematics aspects linked to Machine Learning."
   ]
  },
  {
   "cell_type": "markdown",
   "metadata": {},
   "source": [
    "# Outline:\n",
    "* Control Structure (For, If, Elif, While,...)\n",
    "* Data Structures (list, dictionary, Set, Tuple,...);\n",
    "* Handling data (Vectors, Array or matrix and DataFrame);\n",
    "* Linear Algebra;\n",
    "* Statistics:\n",
    "    * Concepts, useful parameters and their Interpretations;\n",
    "* Data Vizualisation and Graphics Interpretations;\n",
    "* Probability;\n",
    "* Hypothesis test (Inference Statistical);\n",
    "* Calculus (Derivate and Gradient Descent);\n",
    "* Get Data (loading Data);\n",
    "* Preprocessing (Include All possible preprocessing in data):\n",
    "    * Handling Numerical data;\n",
    "    * Handling Categorical data;\n",
    "    * Handling Text data;\n",
    "    * Handling Date and Times;\n",
    "    * Handling Images (optional);\n",
    "* Presentations of Machine learning Techniques:\n",
    "    * Definitions of Machine Learning;\n",
    "    * Concepts and Termilogy;\n",
    "    * Types of Algorithms;\n",
    "    * Types of Problems;\n",
    "    * Each Algorithms and these advantages and disavantages;\n",
    "    * Limits of Machine learning;\n",
    "* The Main steps for realizing a Machine Learning Problem and deep learning;"
   ]
  },
  {
   "cell_type": "markdown",
   "metadata": {},
   "source": [
    "## Libraries Allowed:\n",
    "* Numpy;\n",
    "* Pandas;\n",
    "* Matplotlib"
   ]
  },
  {
   "cell_type": "markdown",
   "metadata": {},
   "source": [
    "## Suggestions:\n",
    "* Bring your Idea;\n",
    "* Critize this the Project and add some things;\n",
    "* Share to each one who will be agreed"
   ]
  },
  {
   "cell_type": "code",
   "execution_count": null,
   "metadata": {},
   "outputs": [],
   "source": []
  }
 ],
 "metadata": {
  "kernelspec": {
   "display_name": "Python 3",
   "language": "python",
   "name": "python3"
  },
  "language_info": {
   "codemirror_mode": {
    "name": "ipython",
    "version": 3
   },
   "file_extension": ".py",
   "mimetype": "text/x-python",
   "name": "python",
   "nbconvert_exporter": "python",
   "pygments_lexer": "ipython3",
   "version": "3.7.0"
  }
 },
 "nbformat": 4,
 "nbformat_minor": 2
}
